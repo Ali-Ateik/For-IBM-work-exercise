{
 "cells": [
  {
   "cell_type": "markdown",
   "id": "8c676ddf-7bf8-44f5-80c0-cc58ab44edb5",
   "metadata": {},
   "source": [
    "# Exercise 2: Homework"
   ]
  },
  {
   "cell_type": "markdown",
   "id": "2db1b452-698b-4495-9984-5a930ae60f67",
   "metadata": {},
   "source": [
    "## Exercise 3: This is a simple introduction as required in the assignment, the following cells will be consequent to the excersizes of the following"
   ]
  },
  {
   "cell_type": "markdown",
   "id": "af71ee75-7f82-4943-ac13-69a87b3b4d24",
   "metadata": {},
   "source": [
    "### Exercise 4: Data science languages:\n",
    "- Python\n",
    "- R\n",
    "- SQL\n",
    "- JAVA\n",
    "- C++"
   ]
  },
  {
   "cell_type": "markdown",
   "id": "ec9a7b8e-7c67-442c-8438-efd137aebc01",
   "metadata": {},
   "source": [
    "### Exercise 5: Data Science Libraries\n",
    "- Numpy\n",
    "- Pandas\n",
    "- Matplotlib\n",
    "- Sickit-learn\n"
   ]
  },
  {
   "cell_type": "markdown",
   "id": "a9324019-9f7d-4ded-a518-5208182c3ab5",
   "metadata": {},
   "source": [
    "### Exercise 6: Data Science tools Table\n",
    "\n",
    "| Data Science category| data science tool\n",
    "|----| ---- |\n",
    "|Data Management| MySQL, PostgreSQL, MangoDB|\n",
    "|Data integration and transformation| apache Airflow|\n",
    "|Data visulaization| PowerPI|\n",
    "|Code Asset Management| Git |\n",
    "|Data Asset Management | Jupyter Notebook|\n",
    "\n",
    "\n"
   ]
  },
  {
   "cell_type": "markdown",
   "id": "b07a289f-47d4-40fc-8e06-11e90db71d79",
   "metadata": {},
   "source": [
    "### Exercise 7 : We will list arithmetic processes as following"
   ]
  },
  {
   "cell_type": "markdown",
   "id": "5a723951-e9bd-4752-87b5-d61a61425f31",
   "metadata": {},
   "source": [
    "### Exercise 8: the following will be a code cell of multiplication and addition"
   ]
  },
  {
   "cell_type": "code",
   "execution_count": 6,
   "id": "87c622d1-10a6-4efa-b267-90c5f22dc746",
   "metadata": {},
   "outputs": [
    {
     "name": "stdout",
     "output_type": "stream",
     "text": [
      "Mult= 15\n",
      "Sum= 8\n"
     ]
    }
   ],
   "source": [
    "Mult= 5*3\n",
    "print(\"Mult=\",Mult)\n",
    "\n",
    "Add = 5+3\n",
    "print(\"Sum=\", Add)\n"
   ]
  },
  {
   "cell_type": "markdown",
   "id": "cb2680c4-d5a8-4891-a31f-eded6df4127b",
   "metadata": {},
   "source": [
    "### Exercise 9: This is to convert minutes to hours"
   ]
  },
  {
   "cell_type": "code",
   "execution_count": 9,
   "id": "dc742253-94a8-4f12-854a-e58ce216db74",
   "metadata": {},
   "outputs": [
    {
     "name": "stdout",
     "output_type": "stream",
     "text": [
      "90 minutes into hours =  1.5 hours\n"
     ]
    }
   ],
   "source": [
    "minutes = 90/60\n",
    "print(\"90 minutes into hours = \", minutes, \"hours\")"
   ]
  },
  {
   "cell_type": "markdown",
   "id": "37357136-ca34-4b3a-a49f-21e7f19430b4",
   "metadata": {},
   "source": [
    "### Exercise 10 : This is the list of objectives \n",
    "- Understand the purpose of the exercise.\n",
    "- Practice creating markdown cells in Jupyter Notebook.\n",
    "- Familiarize yourself with basic formatting using Markdown syntax."
   ]
  },
  {
   "cell_type": "markdown",
   "id": "81ff66dd-a90c-421d-822c-fe57a777df2e",
   "metadata": {},
   "source": [
    "### Excerise 11 : Author name : Ali Ateik"
   ]
  },
  {
   "cell_type": "code",
   "execution_count": null,
   "id": "d566b49b-0e37-4767-8a05-6aed8b8520a4",
   "metadata": {},
   "outputs": [],
   "source": []
  }
 ],
 "metadata": {
  "kernelspec": {
   "display_name": "Python 3 (ipykernel)",
   "language": "python",
   "name": "python3"
  },
  "language_info": {
   "codemirror_mode": {
    "name": "ipython",
    "version": 3
   },
   "file_extension": ".py",
   "mimetype": "text/x-python",
   "name": "python",
   "nbconvert_exporter": "python",
   "pygments_lexer": "ipython3",
   "version": "3.11.8"
  }
 },
 "nbformat": 4,
 "nbformat_minor": 5
}
